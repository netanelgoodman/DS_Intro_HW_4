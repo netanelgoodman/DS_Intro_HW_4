{
 "cells": [
  {
   "cell_type": "code",
   "execution_count": 82,
   "id": "3a8f4822-d03c-4135-a687-bdeb1a5ac43b",
   "metadata": {},
   "outputs": [],
   "source": [
    "open_file = open ('dests.txt', 'r')\n",
    "file = open_file.read()\n",
    "cities = file.split('\\n')"
   ]
  },
  {
   "cell_type": "code",
   "execution_count": 85,
   "id": "f7395aa2-6f72-493d-af9b-ccf94cfd90b5",
   "metadata": {},
   "outputs": [
    {
     "name": "stdout",
     "output_type": "stream",
     "text": [
      "City: Istanbul \n",
      "The distance from Istanbul to Jerusalem is 1,809 km \n",
      "The arrival time from Istanbul to Jerusalem is 20 hours and 42 minutes \n",
      "The longitude of Istanbul is 28.9783589 \n",
      "The latitude  of Istanbul is 41.0082376 \n",
      "\n",
      "City: Amsterdam \n",
      "The distance from Amsterdam to Jerusalem is 4,528 km \n",
      "The arrival time from Amsterdam to Jerusalem is 47 hours and 33 minutes \n",
      "The longitude of Amsterdam is 4.9041389 \n",
      "The latitude  of Amsterdam is 52.3675734 \n",
      "\n",
      "City: Valletta \n",
      "The distance from Valletta to Jerusalem is 3,783 km \n",
      "The arrival time from Valletta to Jerusalem is 50 hours and 29 minutes \n",
      "The longitude of Valletta is 14.5145528 \n",
      "The latitude  of Valletta is 35.8989085 \n",
      "\n",
      "City: Basel \n",
      "The distance from Basel to Jerusalem is 4,091 km \n",
      "The arrival time from Basel to Jerusalem is 43 hours and 42 minutes \n",
      "The longitude of Basel is 7.5885761 \n",
      "The latitude  of Basel is 47.5595986 \n",
      "\n",
      "City: Doha \n",
      "The distance from Doha to Jerusalem is 2,104 km \n",
      "The arrival time from Doha to Jerusalem is 21 hours and 51 minutes \n",
      "The longitude of Doha is 51.53103979999999 \n",
      "The latitude  of Doha is 25.2854473 \n",
      "\n"
     ]
    }
   ],
   "source": [
    "import requests\n",
    "Jerusalem = 'Jerusalem'\n",
    "api = 'AIzaSyBI'\n",
    "all_cities = {}\n",
    "for city in cities:\n",
    "    \n",
    "    url = \"https://maps.googleapis.com/maps/api/distancematrix/json?destinations=%s&origins=%s&key=%s\" % (city,Jerusalem,api)\n",
    "    response= requests.get(url)\n",
    "    json_response = response.json()\n",
    "    dis = (json_response['rows'][0][\"elements\"][0][\"distance\"][\"text\"])\n",
    "    hours = (json_response['rows'][0][\"elements\"][0][\"duration\"][\"value\"])  // 3600\n",
    "    minutes = (json_response['rows'][0][\"elements\"][0][\"duration\"][\"value\"]) % 3600 // 60\n",
    "    \n",
    "    url=\"https://maps.googleapis.com/maps/api/geocode/json?address=%s&key=%s\" % (city,api)\n",
    "    response= requests.get(url)\n",
    "    json_response = response.json()\n",
    "    x=(json_response[\"results\"][0][\"geometry\"][\"location\"][\"lng\"])\n",
    "    y=(json_response[\"results\"][0][\"geometry\"][\"location\"][\"lat\"])\n",
    "    \n",
    "    tup = (dis, hours, minutes, x, y)\n",
    "    all_cities [city] = tup\n",
    "s_list = []\n",
    "for k,v in all_cities.items():\n",
    "    print (\"City:\" ,k \n",
    "        ,\"\\nThe distance from\", k, \"to Jerusalem is\", v[0]\n",
    "          ,\"\\nThe arrival time from\", k, \"to Jerusalem is\", v[1], \"hours and\", v[2], \"minutes\"\n",
    "          ,\"\\nThe longitude of\", k, \"is\", v[3]\n",
    "          ,\"\\nThe latitude  of\", k, \"is\", v[4]\n",
    "          ,\"\\n\")\n",
    "    s_list.append( (v,k) )\n",
    "\n"
   ]
  },
  {
   "cell_type": "code",
   "execution_count": 87,
   "id": "ddbe72ba-3705-4c54-8746-d4492e9f230c",
   "metadata": {},
   "outputs": [
    {
     "name": "stdout",
     "output_type": "stream",
     "text": [
      "Amsterdam\n",
      "Basel\n",
      "Valletta\n"
     ]
    }
   ],
   "source": [
    "sort_list = sorted (s_list, reverse = True)\n",
    "for v,k in sort_list[:3]:\n",
    "    print (k)"
   ]
  },
  {
   "cell_type": "code",
   "execution_count": null,
   "id": "67dce8df-ce15-4ccf-a3a7-30395ea947fc",
   "metadata": {},
   "outputs": [],
   "source": []
  }
 ],
 "metadata": {
  "kernelspec": {
   "display_name": "Python 3 (ipykernel)",
   "language": "python",
   "name": "python3"
  },
  "language_info": {
   "codemirror_mode": {
    "name": "ipython",
    "version": 3
   },
   "file_extension": ".py",
   "mimetype": "text/x-python",
   "name": "python",
   "nbconvert_exporter": "python",
   "pygments_lexer": "ipython3",
   "version": "3.9.7"
  }
 },
 "nbformat": 4,
 "nbformat_minor": 5
}
